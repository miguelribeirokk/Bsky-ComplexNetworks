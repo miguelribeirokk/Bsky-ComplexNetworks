{
 "cells": [
  {
   "cell_type": "code",
   "id": "initial_id",
   "metadata": {
    "collapsed": true,
    "ExecuteTime": {
     "end_time": "2025-01-06T17:46:49.677786Z",
     "start_time": "2025-01-06T17:46:48.740048Z"
    }
   },
   "source": [
    "import pandas as pd\n",
    "import os"
   ],
   "outputs": [],
   "execution_count": 1
  },
  {
   "metadata": {
    "ExecuteTime": {
     "end_time": "2025-01-06T17:46:49.701586Z",
     "start_time": "2025-01-06T17:46:49.696462Z"
    }
   },
   "cell_type": "code",
   "source": [
    "folder_path = '../archives/teams_csvs'\n",
    "df_final = pd.DataFrame()"
   ],
   "id": "ff4d54adff245746",
   "outputs": [],
   "execution_count": 2
  },
  {
   "metadata": {
    "ExecuteTime": {
     "end_time": "2025-01-06T17:46:49.739621Z",
     "start_time": "2025-01-06T17:46:49.724307Z"
    }
   },
   "cell_type": "code",
   "source": [
    "file_names = [file for file in os.listdir(folder_path) if file.endswith('.csv')]\n",
    "file_names"
   ],
   "id": "58510cc2a892d3a3",
   "outputs": [
    {
     "data": {
      "text/plain": [
       "['athletico.csv',\n",
       " 'atletico_go.csv',\n",
       " 'atletico_mg.csv',\n",
       " 'bahia.csv',\n",
       " 'botafogo.csv',\n",
       " 'corinthians.csv',\n",
       " 'criciuma.csv',\n",
       " 'cruzeiro.csv',\n",
       " 'cuiaba.csv',\n",
       " 'flamengo.csv',\n",
       " 'fluminense.csv',\n",
       " 'fortaleza.csv',\n",
       " 'gremio.csv',\n",
       " 'internacional.csv',\n",
       " 'juventude.csv',\n",
       " 'palmeiras.csv',\n",
       " 'red_bull_bragantino.csv',\n",
       " 'sao_paulo.csv',\n",
       " 'vasco.csv',\n",
       " 'vitoria.csv']"
      ]
     },
     "execution_count": 3,
     "metadata": {},
     "output_type": "execute_result"
    }
   ],
   "execution_count": 3
  },
  {
   "metadata": {
    "ExecuteTime": {
     "end_time": "2025-01-06T17:47:10.215281Z",
     "start_time": "2025-01-06T17:47:06.344028Z"
    }
   },
   "cell_type": "code",
   "source": [
    "for file in file_names:\n",
    "    team_name = file.split('.')[0] \n",
    "    print(\"Processando time:\", team_name)\n",
    "    print(\"df_final contém\", len(df_final), \"linhas\")\n",
    "    df = pd.read_csv(os.path.join(folder_path, file))\n",
    "    df['team'] = team_name\n",
    "    df_final = pd.concat([df_final, df], ignore_index=True)"
   ],
   "id": "e9002bbf524b12cc",
   "outputs": [
    {
     "name": "stdout",
     "output_type": "stream",
     "text": [
      "Processando time: athletico\n",
      "df_final contém 0 linhas\n",
      "Processando time: atletico_go\n",
      "df_final contém 4460 linhas\n",
      "Processando time: atletico_mg\n",
      "df_final contém 5319 linhas\n",
      "Processando time: bahia\n",
      "df_final contém 26464 linhas\n",
      "Processando time: botafogo\n",
      "df_final contém 36445 linhas\n",
      "Processando time: corinthians\n",
      "df_final contém 56658 linhas\n",
      "Processando time: criciuma\n",
      "df_final contém 140804 linhas\n",
      "Processando time: cruzeiro\n",
      "df_final contém 141561 linhas\n",
      "Processando time: cuiaba\n",
      "df_final contém 163569 linhas\n",
      "Processando time: flamengo\n",
      "df_final contém 164129 linhas\n",
      "Processando time: fluminense\n",
      "df_final contém 207622 linhas\n",
      "Processando time: fortaleza\n",
      "df_final contém 228618 linhas\n",
      "Processando time: gremio\n",
      "df_final contém 234616 linhas\n",
      "Processando time: internacional\n",
      "df_final contém 248955 linhas\n",
      "Processando time: juventude\n",
      "df_final contém 261401 linhas\n",
      "Processando time: palmeiras\n",
      "df_final contém 262519 linhas\n",
      "Processando time: red_bull_bragantino\n",
      "df_final contém 279228 linhas\n",
      "Processando time: sao_paulo\n",
      "df_final contém 279992 linhas\n",
      "Processando time: vasco\n",
      "df_final contém 289185 linhas\n",
      "Processando time: vitoria\n",
      "df_final contém 337833 linhas\n"
     ]
    }
   ],
   "execution_count": 4
  },
  {
   "metadata": {
    "ExecuteTime": {
     "end_time": "2025-01-06T17:47:25.396998Z",
     "start_time": "2025-01-06T17:47:22.176451Z"
    }
   },
   "cell_type": "code",
   "source": "df_final.to_csv(os.path.join(folder_path, 'all_teams.csv'), index=True)",
   "id": "81f77ca1d8282891",
   "outputs": [],
   "execution_count": 6
  },
  {
   "metadata": {
    "ExecuteTime": {
     "end_time": "2025-01-06T17:48:35.504746Z",
     "start_time": "2025-01-06T17:48:35.497581Z"
    }
   },
   "cell_type": "code",
   "source": "df_final.shape",
   "id": "330fc1b142215c9b",
   "outputs": [
    {
     "data": {
      "text/plain": [
       "(340611, 8)"
      ]
     },
     "execution_count": 8,
     "metadata": {},
     "output_type": "execute_result"
    }
   ],
   "execution_count": 8
  },
  {
   "metadata": {},
   "cell_type": "code",
   "outputs": [],
   "execution_count": null,
   "source": "",
   "id": "702e3f43168ecbc1"
  }
 ],
 "metadata": {
  "kernelspec": {
   "display_name": "Python 3",
   "language": "python",
   "name": "python3"
  },
  "language_info": {
   "codemirror_mode": {
    "name": "ipython",
    "version": 2
   },
   "file_extension": ".py",
   "mimetype": "text/x-python",
   "name": "python",
   "nbconvert_exporter": "python",
   "pygments_lexer": "ipython2",
   "version": "2.7.6"
  }
 },
 "nbformat": 4,
 "nbformat_minor": 5
}
