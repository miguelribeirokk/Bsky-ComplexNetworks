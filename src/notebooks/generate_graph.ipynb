{
 "cells": [
  {
   "metadata": {},
   "cell_type": "code",
   "outputs": [],
   "execution_count": null,
   "source": [
    "import pandas as pd\n",
    "import networkx as nx"
   ],
   "id": "8fcaee2fc043745b"
  },
  {
   "metadata": {},
   "cell_type": "code",
   "outputs": [],
   "execution_count": null,
   "source": [
    "arquivo_csv = \"bsky.cuiaba.csv\"\n",
    "df = pd.read_csv(arquivo_csv)\n",
    "grafo = nx.DiGraph()\n",
    "\n",
    "for _, row in df.iterrows():\n",
    "    user = row[\"user_id\"]\n",
    "    followers = row.filter(like=\"followers\").dropna()\n",
    "\n",
    "    for follower in followers:\n",
    "        grafo.add_edge(follower, user)\n",
    "\n",
    "print(f\"Número de nós: {grafo.number_of_nodes()}\")\n",
    "print(f\"Número de arestas: {grafo.number_of_edges()}\")"
   ],
   "id": "318f2d68d0c16901"
  },
  {
   "metadata": {},
   "cell_type": "code",
   "outputs": [],
   "execution_count": null,
   "source": "nx.write_gexf(grafo, \"../results/grafo_seguidores.gexf\")",
   "id": "1437d70df124906d"
  }
 ],
 "metadata": {
  "kernelspec": {
   "display_name": "Python 3",
   "language": "python",
   "name": "python3"
  },
  "language_info": {
   "codemirror_mode": {
    "name": "ipython",
    "version": 2
   },
   "file_extension": ".py",
   "mimetype": "text/x-python",
   "name": "python",
   "nbconvert_exporter": "python",
   "pygments_lexer": "ipython2",
   "version": "2.7.6"
  }
 },
 "nbformat": 4,
 "nbformat_minor": 5
}
