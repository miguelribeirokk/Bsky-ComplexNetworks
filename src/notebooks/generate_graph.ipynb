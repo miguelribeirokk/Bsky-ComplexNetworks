{
 "cells": [
  {
   "metadata": {},
   "cell_type": "code",
   "outputs": [],
   "execution_count": null,
   "source": [
    "import pandas as pd\n",
    "import networkx as nx"
   ],
   "id": "8fcaee2fc043745b"
  },
  {
   "metadata": {
    "ExecuteTime": {
     "end_time": "2025-01-06T17:56:49.826424Z",
     "start_time": "2025-01-06T17:56:23.084682Z"
    }
   },
   "cell_type": "code",
   "source": [
    "import pandas as pd\n",
    "import networkx as nx\n",
    "import matplotlib.pyplot as plt\n",
    "\n",
    "# Carrega o arquivo com todos os times e seguidores\n",
    "arquivo_csv = \"../archives/teams_csvs/all_teams.csv\"\n",
    "df = pd.read_csv(arquivo_csv)\n",
    "\n",
    "# Cria um grafo direcionado\n",
    "grafo = nx.DiGraph()\n",
    "\n",
    "# Itera pelas linhas do DataFrame para criar as conexões no grafo\n",
    "for _, row in df.iterrows():\n",
    "    team = row[\"team\"]  # Nome do time\n",
    "    follower_handle = row[\"handle\"]  # Nome do seguidor\n",
    "    grafo.add_edge(follower_handle, team)  # Adiciona uma aresta do seguidor para o time\n",
    "\n",
    "# Exibe informações do grafo\n",
    "print(f\"Número de nós: {grafo.number_of_nodes()}\")\n",
    "print(f\"Número de arestas: {grafo.number_of_edges()}\")"
   ],
   "id": "318f2d68d0c16901",
   "outputs": [
    {
     "name": "stdout",
     "output_type": "stream",
     "text": [
      "Número de nós: 317261\n",
      "Número de arestas: 340322\n"
     ]
    }
   ],
   "execution_count": 3
  },
  {
   "metadata": {
    "ExecuteTime": {
     "end_time": "2025-01-06T17:57:00.546496Z",
     "start_time": "2025-01-06T17:56:49.919666Z"
    }
   },
   "cell_type": "code",
   "source": "nx.write_gexf(grafo, \"../results/grafo_seguidores.gexf\")",
   "id": "1437d70df124906d",
   "outputs": [],
   "execution_count": 4
  },
  {
   "metadata": {},
   "cell_type": "code",
   "outputs": [],
   "execution_count": null,
   "source": "",
   "id": "619beac79650d443"
  }
 ],
 "metadata": {
  "kernelspec": {
   "display_name": "Python 3",
   "language": "python",
   "name": "python3"
  },
  "language_info": {
   "codemirror_mode": {
    "name": "ipython",
    "version": 2
   },
   "file_extension": ".py",
   "mimetype": "text/x-python",
   "name": "python",
   "nbconvert_exporter": "python",
   "pygments_lexer": "ipython2",
   "version": "2.7.6"
  }
 },
 "nbformat": 4,
 "nbformat_minor": 5
}
