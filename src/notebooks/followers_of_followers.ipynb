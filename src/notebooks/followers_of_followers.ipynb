{
 "cells": [
  {
   "metadata": {
    "ExecuteTime": {
     "end_time": "2025-01-03T13:26:30.202776Z",
     "start_time": "2025-01-03T13:26:30.196973Z"
    }
   },
   "cell_type": "code",
   "source": [
    "from api_methods.get_followers import get_followers\n",
    "from model.client import AtProtoClientContextManager\n",
    "from pymongo import MongoClient\n",
    "from datetime import datetime"
   ],
   "id": "48619e57a85813ce",
   "outputs": [],
   "execution_count": 21
  },
  {
   "metadata": {
    "ExecuteTime": {
     "end_time": "2025-01-03T13:26:30.241156Z",
     "start_time": "2025-01-03T13:26:30.234936Z"
    }
   },
   "cell_type": "code",
   "source": [
    "MAX_FOLLOWERS = 1000\n",
    "\n",
    "MONGO_DB = \"bsky\"\n",
    "MONGO_COLLECTION = \"cuiaba\"\n",
    "\n",
    "ACTOR_TIME = \"did:plc:lzqlhj2iss2i2athpbxnxarm\""
   ],
   "id": "1d6620024d67f359",
   "outputs": [],
   "execution_count": 22
  },
  {
   "metadata": {
    "ExecuteTime": {
     "end_time": "2025-01-03T13:26:30.317612Z",
     "start_time": "2025-01-03T13:26:30.275631Z"
    }
   },
   "cell_type": "code",
   "source": [
    "client = MongoClient(\"mongodb://localhost:27017/\")\n",
    "db = client[MONGO_DB]\n",
    "collection = db[MONGO_COLLECTION]\n",
    "\n",
    "collection.create_index(\"user_id\", unique=True)"
   ],
   "id": "98e3d12a3ab6f304",
   "outputs": [
    {
     "data": {
      "text/plain": [
       "'user_id_1'"
      ]
     },
     "execution_count": 23,
     "metadata": {},
     "output_type": "execute_result"
    }
   ],
   "execution_count": 23
  },
  {
   "metadata": {
    "ExecuteTime": {
     "end_time": "2025-01-03T13:26:30.459318Z",
     "start_time": "2025-01-03T13:26:30.451129Z"
    }
   },
   "cell_type": "code",
   "source": [
    "def save_to_db(user_dados):\n",
    "    try:\n",
    "        collection.update_one(\n",
    "            {\"user_id\": user_dados['did']},\n",
    "            {\n",
    "                \"$set\": {\n",
    "                    \"display_name\": user_dados.get('display_name', 'N/A'),\n",
    "                    \"description\": user_dados.get('description', 'N/A'),\n",
    "                    \"handle\": user_dados.get('handle', 'N/A'),\n",
    "                    \"updated_at\": datetime.now()\n",
    "                },\n",
    "                \"$setOnInsert\": {\n",
    "                    \"created_at\": datetime.now()\n",
    "                }\n",
    "            },\n",
    "            upsert=True\n",
    "        )\n",
    "    except Exception as e:\n",
    "        print(f\"Erro ao salvar dados do usuário {user_dados['did']}: {e}\")"
   ],
   "id": "a7ec43066a9e58ef",
   "outputs": [],
   "execution_count": 24
  },
  {
   "metadata": {
    "ExecuteTime": {
     "end_time": "2025-01-03T13:26:36.728650Z",
     "start_time": "2025-01-03T13:26:30.503208Z"
    }
   },
   "cell_type": "code",
   "source": [
    "with AtProtoClientContextManager() as client:\n",
    "    actor = ACTOR_TIME\n",
    "    \n",
    "    # Recuperar seguidores diretos do time\n",
    "    followers_data = [\n",
    "        {\n",
    "            \"did\": follower.did,\n",
    "            \"display_name\": follower.display_name or 'N/A',\n",
    "            \"description\": follower.description or 'N/A',\n",
    "            \"handle\": follower.handle or 'N/A'\n",
    "        }\n",
    "        for follower in get_followers(actor, client, MAX_FOLLOWERS)\n",
    "    ]\n",
    "    \n",
    "    print(f\"Total de seguidores diretos do ACTOR (Cuiabá): {len(followers_data)}\")\n",
    "    \n",
    "    # Salvar apenas os seguidores diretos no banco\n",
    "    for follower_data in followers_data:\n",
    "        save_to_db(follower_data)\n",
    "\n",
    "    print(\"Coleta concluída!\")"
   ],
   "id": "da88e6a8cf272b62",
   "outputs": [
    {
     "name": "stdout",
     "output_type": "stream",
     "text": [
      "Total de seguidores diretos do ACTOR (Cuiabá): 560\n",
      "Coleta concluída!\n"
     ]
    }
   ],
   "execution_count": 25
  },
  {
   "metadata": {
    "ExecuteTime": {
     "end_time": "2025-01-03T13:26:36.855915Z",
     "start_time": "2025-01-03T13:26:36.762448Z"
    }
   },
   "cell_type": "code",
   "source": [
    "import pandas as pd\n",
    "import networkx as nx\n",
    "import matplotlib.pyplot as plt\n",
    "\n",
    "# Passo 1: Carregar o arquivo CSV\n",
    "arquivo_csv = \"bsky.cuiaba.csv\"  # Substitua pelo nome do seu arquivo\n",
    "df = pd.read_csv(arquivo_csv)\n",
    "\n",
    "# Passo 2: Inicializar o grafo direcionado\n",
    "grafo = nx.DiGraph()\n",
    "\n",
    "# Passo 3: Criar as conexões do grafo\n",
    "for _, row in df.iterrows():\n",
    "    user = row[\"user_id\"]  # Identifica o usuário (dono da linha)\n",
    "    followers = row.filter(like=\"followers\").dropna()  # Filtra as colunas de seguidores\n",
    "    \n",
    "    \n",
    "    # Adiciona conexões no grafo (seguidores -> usuário)\n",
    "    for follower in followers:\n",
    "        grafo.add_edge(follower, user)\n",
    "        \n",
    "print(f\"Número de nós: {grafo.number_of_nodes()}\")\n",
    "print(f\"Número de arestas: {grafo.number_of_edges()}\")\n",
    "\n",
    "\n"
   ],
   "id": "eec56b6190140a83",
   "outputs": [
    {
     "name": "stdout",
     "output_type": "stream",
     "text": [
      "Número de nós: 1208\n",
      "Número de arestas: 3626\n"
     ]
    }
   ],
   "execution_count": 26
  },
  {
   "metadata": {
    "ExecuteTime": {
     "end_time": "2025-01-03T13:26:36.951863Z",
     "start_time": "2025-01-03T13:26:36.890064Z"
    }
   },
   "cell_type": "code",
   "source": "nx.write_gexf(grafo, \"grafo_seguidores.gexf\")\n",
   "id": "2d1b73f3d942bf3c",
   "outputs": [],
   "execution_count": 27
  },
  {
   "metadata": {
    "ExecuteTime": {
     "end_time": "2025-01-03T13:26:36.985642Z",
     "start_time": "2025-01-03T13:26:36.980659Z"
    }
   },
   "cell_type": "code",
   "source": "",
   "id": "f0791510320347c6",
   "outputs": [],
   "execution_count": null
  }
 ],
 "metadata": {
  "kernelspec": {
   "display_name": "Python 3",
   "language": "python",
   "name": "python3"
  },
  "language_info": {
   "codemirror_mode": {
    "name": "ipython",
    "version": 2
   },
   "file_extension": ".py",
   "mimetype": "text/x-python",
   "name": "python",
   "nbconvert_exporter": "python",
   "pygments_lexer": "ipython2",
   "version": "2.7.6"
  }
 },
 "nbformat": 4,
 "nbformat_minor": 5
}
