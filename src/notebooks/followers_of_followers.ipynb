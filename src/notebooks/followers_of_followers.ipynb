{
 "cells": [
  {
   "metadata": {
    "ExecuteTime": {
     "end_time": "2025-01-03T14:02:06.280614Z",
     "start_time": "2025-01-03T14:01:58.296090Z"
    }
   },
   "cell_type": "code",
   "source": [
    "from api_methods.get_followers import get_followers\n",
    "from model.client import AtProtoClientContextManager\n",
    "from db.mongo import save_to_db\n",
    "import pandas as pd"
   ],
   "id": "48619e57a85813ce",
   "outputs": [],
   "execution_count": 1
  },
  {
   "metadata": {
    "ExecuteTime": {
     "end_time": "2025-01-03T14:02:06.344145Z",
     "start_time": "2025-01-03T14:02:06.298740Z"
    }
   },
   "cell_type": "code",
   "source": [
    "data = pd.read_csv(\"../archives/serieA_teams.csv\")\n",
    "handle_did_tuples = list(data[['Handle', 'DID']].itertuples(index=False, name=None))\n",
    "\n",
    "handle_did_tuples[:5]"
   ],
   "id": "3695fbb9606c9e32",
   "outputs": [
    {
     "data": {
      "text/plain": [
       "[('athletico.com.br', 'did:plc:sc2mo2yyi7cdxbfhp275jgzl'),\n",
       " ('dragaodobrasil.bsky.social', 'did:plc:twixmok4pj3uclkpuvqebtjk'),\n",
       " ('atletico.bsky.social', 'did:plc:u2o5onxie3yg3t25oufxlhsz'),\n",
       " ('esporteclubebahia.com.br', 'did:plc:b2fk2zapnjtvxl4ap7tkigbi'),\n",
       " ('botafogo.com.br', 'did:plc:vfwv5bhrqrgixmahcdedi6od')]"
      ]
     },
     "execution_count": 2,
     "metadata": {},
     "output_type": "execute_result"
    }
   ],
   "execution_count": 2
  },
  {
   "metadata": {
    "jupyter": {
     "is_executing": true
    },
    "ExecuteTime": {
     "start_time": "2025-01-03T14:02:06.927795Z"
    }
   },
   "cell_type": "code",
   "source": [
    "with AtProtoClientContextManager() as client:\n",
    "    for handle_did, did in handle_did_tuples:\n",
    "        team_name = handle_did.split(\".\")[0]\n",
    "\n",
    "        followers_data = [\n",
    "            {\n",
    "                \"did\": follower.did,\n",
    "                \"display_name\": follower.display_name or 'N/A',\n",
    "                \"description\": follower.description or 'N/A',\n",
    "                \"team_name\": team_name,\n",
    "                \"handle\": follower.handle or 'N/A'\n",
    "            }\n",
    "            for follower in get_followers(did, client, 0)\n",
    "        ]\n",
    "\n",
    "        print(f\"Total de seguidores diretos do ACTOR ({team_name}): {len(followers_data)}\")\n",
    "\n",
    "        for follower_data in followers_data:\n",
    "            save_to_db(team_name, follower_data)\n",
    "\n",
    "        print(\"Coleta concluída para \" + team_name)"
   ],
   "id": "da88e6a8cf272b62",
   "outputs": [
    {
     "name": "stdout",
     "output_type": "stream",
     "text": [
      "Total de seguidores diretos do ACTOR (athletico): 4460\n"
     ]
    }
   ],
   "execution_count": null
  }
 ],
 "metadata": {
  "kernelspec": {
   "display_name": "Python 3",
   "language": "python",
   "name": "python3"
  },
  "language_info": {
   "codemirror_mode": {
    "name": "ipython",
    "version": 2
   },
   "file_extension": ".py",
   "mimetype": "text/x-python",
   "name": "python",
   "nbconvert_exporter": "python",
   "pygments_lexer": "ipython2",
   "version": "2.7.6"
  }
 },
 "nbformat": 4,
 "nbformat_minor": 5
}
