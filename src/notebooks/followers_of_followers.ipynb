{
 "cells": [
  {
   "metadata": {
    "ExecuteTime": {
     "end_time": "2024-11-28T19:26:57.879468Z",
     "start_time": "2024-11-28T19:26:52.812292Z"
    }
   },
   "cell_type": "code",
   "source": "from api_methods.get_followers import get_followers",
   "id": "48619e57a85813ce",
   "outputs": [],
   "execution_count": 1
  },
  {
   "metadata": {
    "ExecuteTime": {
     "end_time": "2024-11-28T19:26:57.892749Z",
     "start_time": "2024-11-28T19:26:57.887003Z"
    }
   },
   "cell_type": "code",
   "source": "MAX_DEPTH = 3",
   "id": "1d6620024d67f359",
   "outputs": [],
   "execution_count": 2
  },
  {
   "metadata": {
    "ExecuteTime": {
     "end_time": "2024-11-28T19:27:00.202143Z",
     "start_time": "2024-11-28T19:26:58.219343Z"
    }
   },
   "cell_type": "code",
   "source": [
    "actor = \"did:plc:sc2mo2yyi7cdxbfhp275jgzl\"\n",
    "users_to_check = set([follower.did for follower in get_followers(actor)])\n",
    "all_users = set(users_to_check)\n",
    "curr_depth = 1\n",
    "\n",
    "while curr_depth < MAX_DEPTH:\n",
    "    next_users_to_check = set()\n",
    "\n",
    "    for user in users_to_check:\n",
    "        new_followers = set(follower.did for follower in get_followers(user))\n",
    "        next_users_to_check.update(new_followers - all_users)\n",
    "        all_users.update(new_followers)\n",
    "\n",
    "    users_to_check = next_users_to_check\n",
    "    curr_depth += 1\n",
    "\n",
    "all_followers = list(all_users)\n",
    "print(all_followers[:3])\n",
    "\n",
    "output_file = \"all_followers.txt\"\n",
    "with open(output_file, \"w\") as file:\n",
    "    for follower in all_followers:\n",
    "        file.write(f\"{follower}\\n\")\n",
    "\n",
    "print(f\"Saved all followers to {output_file}\")"
   ],
   "id": "da88e6a8cf272b62",
   "outputs": [
    {
     "ename": "RequestException",
     "evalue": "Response(success=False, status_code=429, content=XrpcError(error='RateLimitExceeded', message='Rate Limit Exceeded'), headers={'date': 'Thu, 28 Nov 2024 19:26:59 GMT', 'content-type': 'application/json; charset=utf-8', 'content-length': '61', 'connection': 'keep-alive', 'x-powered-by': 'Express', 'access-control-allow-origin': '*', 'ratelimit-limit': '30', 'ratelimit-remaining': '0', 'ratelimit-reset': '1732822030', 'ratelimit-policy': '30;w=300', 'etag': 'W/\"3d-egyFOcXCrKQFzoI7522/4+PpxIk\"', 'vary': 'Accept-Encoding'})",
     "output_type": "error",
     "traceback": [
      "\u001B[1;31m---------------------------------------------------------------------------\u001B[0m",
      "\u001B[1;31mRequestException\u001B[0m                          Traceback (most recent call last)",
      "Cell \u001B[1;32mIn[3], line 2\u001B[0m\n\u001B[0;32m      1\u001B[0m actor \u001B[38;5;241m=\u001B[39m \u001B[38;5;124m\"\u001B[39m\u001B[38;5;124mdid:plc:sc2mo2yyi7cdxbfhp275jgzl\u001B[39m\u001B[38;5;124m\"\u001B[39m\n\u001B[1;32m----> 2\u001B[0m users_to_check \u001B[38;5;241m=\u001B[39m \u001B[38;5;28mset\u001B[39m([follower\u001B[38;5;241m.\u001B[39mdid \u001B[38;5;28;01mfor\u001B[39;00m follower \u001B[38;5;129;01min\u001B[39;00m \u001B[43mget_followers\u001B[49m\u001B[43m(\u001B[49m\u001B[43mactor\u001B[49m\u001B[43m)\u001B[49m])\n\u001B[0;32m      3\u001B[0m all_users \u001B[38;5;241m=\u001B[39m \u001B[38;5;28mset\u001B[39m(users_to_check)\n\u001B[0;32m      4\u001B[0m curr_depth \u001B[38;5;241m=\u001B[39m \u001B[38;5;241m1\u001B[39m\n",
      "File \u001B[1;32m~\\DataspellProjects\\Bsky-ComplexNetworks\\src\\api_methods\\get_followers.py:10\u001B[0m, in \u001B[0;36mget_followers\u001B[1;34m(actor_did, limit)\u001B[0m\n\u001B[0;32m      7\u001B[0m params \u001B[38;5;241m=\u001B[39m Params(actor\u001B[38;5;241m=\u001B[39mactor_did, limit\u001B[38;5;241m=\u001B[39mlimit)\n\u001B[0;32m      8\u001B[0m all_followers \u001B[38;5;241m=\u001B[39m []\n\u001B[1;32m---> 10\u001B[0m \u001B[43m\u001B[49m\u001B[38;5;28;43;01mwith\u001B[39;49;00m\u001B[43m \u001B[49m\u001B[43mAtProtoClientContextManager\u001B[49m\u001B[43m(\u001B[49m\u001B[43m)\u001B[49m\u001B[43m \u001B[49m\u001B[38;5;28;43;01mas\u001B[39;49;00m\u001B[43m \u001B[49m\u001B[43mclient\u001B[49m\u001B[43m:\u001B[49m\n\u001B[0;32m     11\u001B[0m \u001B[43m    \u001B[49m\u001B[38;5;28;43;01mwhile\u001B[39;49;00m\u001B[43m \u001B[49m\u001B[38;5;28;43;01mTrue\u001B[39;49;00m\u001B[43m:\u001B[49m\n\u001B[0;32m     12\u001B[0m \u001B[43m        \u001B[49m\u001B[43mresponse\u001B[49m\u001B[43m \u001B[49m\u001B[38;5;241;43m=\u001B[39;49m\u001B[43m \u001B[49m\u001B[43mclient\u001B[49m\u001B[38;5;241;43m.\u001B[39;49m\u001B[43mapp\u001B[49m\u001B[38;5;241;43m.\u001B[39;49m\u001B[43mbsky\u001B[49m\u001B[38;5;241;43m.\u001B[39;49m\u001B[43mgraph\u001B[49m\u001B[38;5;241;43m.\u001B[39;49m\u001B[43mget_followers\u001B[49m\u001B[43m(\u001B[49m\u001B[43mparams\u001B[49m\u001B[38;5;241;43m=\u001B[39;49m\u001B[43mparams\u001B[49m\u001B[43m)\u001B[49m\n",
      "File \u001B[1;32m~\\DataspellProjects\\Bsky-ComplexNetworks\\src\\model\\client.py:17\u001B[0m, in \u001B[0;36mAtProtoClientContextManager.__enter__\u001B[1;34m(self)\u001B[0m\n\u001B[0;32m     15\u001B[0m \u001B[38;5;28;01mdef\u001B[39;00m \u001B[38;5;21m__enter__\u001B[39m(\u001B[38;5;28mself\u001B[39m):\n\u001B[0;32m     16\u001B[0m     \u001B[38;5;28mself\u001B[39m\u001B[38;5;241m.\u001B[39mclient \u001B[38;5;241m=\u001B[39m Client()\n\u001B[1;32m---> 17\u001B[0m     \u001B[38;5;28;43mself\u001B[39;49m\u001B[38;5;241;43m.\u001B[39;49m\u001B[43mclient\u001B[49m\u001B[38;5;241;43m.\u001B[39;49m\u001B[43mlogin\u001B[49m\u001B[43m(\u001B[49m\u001B[38;5;28;43mself\u001B[39;49m\u001B[38;5;241;43m.\u001B[39;49m\u001B[43musername\u001B[49m\u001B[43m,\u001B[49m\u001B[43m \u001B[49m\u001B[38;5;28;43mself\u001B[39;49m\u001B[38;5;241;43m.\u001B[39;49m\u001B[43mpassword\u001B[49m\u001B[43m)\u001B[49m\n\u001B[0;32m     18\u001B[0m     \u001B[38;5;28;01mreturn\u001B[39;00m \u001B[38;5;28mself\u001B[39m\u001B[38;5;241m.\u001B[39mclient\n",
      "File \u001B[1;32m~\\.conda\\envs\\Machine-Learning-And-Data-Science-Course\\Lib\\site-packages\\atproto_client\\client\\client.py:105\u001B[0m, in \u001B[0;36mClient.login\u001B[1;34m(self, login, password, session_string)\u001B[0m\n\u001B[0;32m    103\u001B[0m     session \u001B[38;5;241m=\u001B[39m \u001B[38;5;28mself\u001B[39m\u001B[38;5;241m.\u001B[39m_import_session_string(session_string)\n\u001B[0;32m    104\u001B[0m \u001B[38;5;28;01melif\u001B[39;00m login \u001B[38;5;129;01mand\u001B[39;00m password:\n\u001B[1;32m--> 105\u001B[0m     session \u001B[38;5;241m=\u001B[39m \u001B[38;5;28;43mself\u001B[39;49m\u001B[38;5;241;43m.\u001B[39;49m\u001B[43m_get_and_set_session\u001B[49m\u001B[43m(\u001B[49m\u001B[43mlogin\u001B[49m\u001B[43m,\u001B[49m\u001B[43m \u001B[49m\u001B[43mpassword\u001B[49m\u001B[43m)\u001B[49m\n\u001B[0;32m    106\u001B[0m \u001B[38;5;28;01melse\u001B[39;00m:\n\u001B[0;32m    107\u001B[0m     \u001B[38;5;28;01mraise\u001B[39;00m \u001B[38;5;167;01mValueError\u001B[39;00m(\u001B[38;5;124m'\u001B[39m\u001B[38;5;124mEither session_string or login and password should be provided.\u001B[39m\u001B[38;5;124m'\u001B[39m)\n",
      "File \u001B[1;32m~\\.conda\\envs\\Machine-Learning-And-Data-Science-Course\\Lib\\site-packages\\atproto_client\\client\\client.py:48\u001B[0m, in \u001B[0;36mClient._get_and_set_session\u001B[1;34m(self, login, password)\u001B[0m\n\u001B[0;32m     47\u001B[0m \u001B[38;5;28;01mdef\u001B[39;00m \u001B[38;5;21m_get_and_set_session\u001B[39m(\u001B[38;5;28mself\u001B[39m, login: \u001B[38;5;28mstr\u001B[39m, password: \u001B[38;5;28mstr\u001B[39m) \u001B[38;5;241m-\u001B[39m\u001B[38;5;241m>\u001B[39m \u001B[38;5;124m'\u001B[39m\u001B[38;5;124mmodels.ComAtprotoServerCreateSession.Response\u001B[39m\u001B[38;5;124m'\u001B[39m:\n\u001B[1;32m---> 48\u001B[0m     session \u001B[38;5;241m=\u001B[39m \u001B[38;5;28;43mself\u001B[39;49m\u001B[38;5;241;43m.\u001B[39;49m\u001B[43mcom\u001B[49m\u001B[38;5;241;43m.\u001B[39;49m\u001B[43matproto\u001B[49m\u001B[38;5;241;43m.\u001B[39;49m\u001B[43mserver\u001B[49m\u001B[38;5;241;43m.\u001B[39;49m\u001B[43mcreate_session\u001B[49m\u001B[43m(\u001B[49m\n\u001B[0;32m     49\u001B[0m \u001B[43m        \u001B[49m\u001B[43mmodels\u001B[49m\u001B[38;5;241;43m.\u001B[39;49m\u001B[43mComAtprotoServerCreateSession\u001B[49m\u001B[38;5;241;43m.\u001B[39;49m\u001B[43mData\u001B[49m\u001B[43m(\u001B[49m\u001B[43midentifier\u001B[49m\u001B[38;5;241;43m=\u001B[39;49m\u001B[43mlogin\u001B[49m\u001B[43m,\u001B[49m\u001B[43m \u001B[49m\u001B[43mpassword\u001B[49m\u001B[38;5;241;43m=\u001B[39;49m\u001B[43mpassword\u001B[49m\u001B[43m)\u001B[49m\n\u001B[0;32m     50\u001B[0m \u001B[43m    \u001B[49m\u001B[43m)\u001B[49m\n\u001B[0;32m     51\u001B[0m     \u001B[38;5;28mself\u001B[39m\u001B[38;5;241m.\u001B[39m_set_session(SessionEvent\u001B[38;5;241m.\u001B[39mCREATE, session)\n\u001B[0;32m     52\u001B[0m     \u001B[38;5;28;01mreturn\u001B[39;00m session\n",
      "File \u001B[1;32m~\\.conda\\envs\\Machine-Learning-And-Data-Science-Course\\Lib\\site-packages\\atproto_client\\namespaces\\sync_ns.py:5427\u001B[0m, in \u001B[0;36mComAtprotoServerNamespace.create_session\u001B[1;34m(self, data, **kwargs)\u001B[0m\n\u001B[0;32m   5412\u001B[0m \u001B[38;5;250m\u001B[39m\u001B[38;5;124;03m\"\"\"Create an authentication session.\u001B[39;00m\n\u001B[0;32m   5413\u001B[0m \n\u001B[0;32m   5414\u001B[0m \u001B[38;5;124;03mArgs:\u001B[39;00m\n\u001B[1;32m   (...)\u001B[0m\n\u001B[0;32m   5422\u001B[0m \u001B[38;5;124;03m    :class:`atproto.exceptions.AtProtocolError`: Base exception.\u001B[39;00m\n\u001B[0;32m   5423\u001B[0m \u001B[38;5;124;03m\"\"\"\u001B[39;00m\n\u001B[0;32m   5424\u001B[0m data_model \u001B[38;5;241m=\u001B[39m t\u001B[38;5;241m.\u001B[39mcast(\n\u001B[0;32m   5425\u001B[0m     \u001B[38;5;124m'\u001B[39m\u001B[38;5;124mmodels.ComAtprotoServerCreateSession.Data\u001B[39m\u001B[38;5;124m'\u001B[39m, get_or_create(data, models\u001B[38;5;241m.\u001B[39mComAtprotoServerCreateSession\u001B[38;5;241m.\u001B[39mData)\n\u001B[0;32m   5426\u001B[0m )\n\u001B[1;32m-> 5427\u001B[0m response \u001B[38;5;241m=\u001B[39m \u001B[38;5;28;43mself\u001B[39;49m\u001B[38;5;241;43m.\u001B[39;49m\u001B[43m_client\u001B[49m\u001B[38;5;241;43m.\u001B[39;49m\u001B[43minvoke_procedure\u001B[49m\u001B[43m(\u001B[49m\n\u001B[0;32m   5428\u001B[0m \u001B[43m    \u001B[49m\u001B[38;5;124;43m'\u001B[39;49m\u001B[38;5;124;43mcom.atproto.server.createSession\u001B[39;49m\u001B[38;5;124;43m'\u001B[39;49m\u001B[43m,\u001B[49m\n\u001B[0;32m   5429\u001B[0m \u001B[43m    \u001B[49m\u001B[43mdata\u001B[49m\u001B[38;5;241;43m=\u001B[39;49m\u001B[43mdata_model\u001B[49m\u001B[43m,\u001B[49m\n\u001B[0;32m   5430\u001B[0m \u001B[43m    \u001B[49m\u001B[43minput_encoding\u001B[49m\u001B[38;5;241;43m=\u001B[39;49m\u001B[38;5;124;43m'\u001B[39;49m\u001B[38;5;124;43mapplication/json\u001B[39;49m\u001B[38;5;124;43m'\u001B[39;49m\u001B[43m,\u001B[49m\n\u001B[0;32m   5431\u001B[0m \u001B[43m    \u001B[49m\u001B[43moutput_encoding\u001B[49m\u001B[38;5;241;43m=\u001B[39;49m\u001B[38;5;124;43m'\u001B[39;49m\u001B[38;5;124;43mapplication/json\u001B[39;49m\u001B[38;5;124;43m'\u001B[39;49m\u001B[43m,\u001B[49m\n\u001B[0;32m   5432\u001B[0m \u001B[43m    \u001B[49m\u001B[38;5;241;43m*\u001B[39;49m\u001B[38;5;241;43m*\u001B[39;49m\u001B[43mkwargs\u001B[49m\u001B[43m,\u001B[49m\n\u001B[0;32m   5433\u001B[0m \u001B[43m\u001B[49m\u001B[43m)\u001B[49m\n\u001B[0;32m   5434\u001B[0m \u001B[38;5;28;01mreturn\u001B[39;00m get_response_model(response, models\u001B[38;5;241m.\u001B[39mComAtprotoServerCreateSession\u001B[38;5;241m.\u001B[39mResponse)\n",
      "File \u001B[1;32m~\\.conda\\envs\\Machine-Learning-And-Data-Science-Course\\Lib\\site-packages\\atproto_client\\client\\base.py:115\u001B[0m, in \u001B[0;36mClientBase.invoke_procedure\u001B[1;34m(self, nsid, params, data, **kwargs)\u001B[0m\n\u001B[0;32m    108\u001B[0m \u001B[38;5;28;01mdef\u001B[39;00m \u001B[38;5;21minvoke_procedure\u001B[39m(\n\u001B[0;32m    109\u001B[0m     \u001B[38;5;28mself\u001B[39m,\n\u001B[0;32m    110\u001B[0m     nsid: \u001B[38;5;28mstr\u001B[39m,\n\u001B[1;32m   (...)\u001B[0m\n\u001B[0;32m    113\u001B[0m     \u001B[38;5;241m*\u001B[39m\u001B[38;5;241m*\u001B[39mkwargs: t\u001B[38;5;241m.\u001B[39mAny,\n\u001B[0;32m    114\u001B[0m ) \u001B[38;5;241m-\u001B[39m\u001B[38;5;241m>\u001B[39m Response:\n\u001B[1;32m--> 115\u001B[0m     \u001B[38;5;28;01mreturn\u001B[39;00m \u001B[38;5;28;43mself\u001B[39;49m\u001B[38;5;241;43m.\u001B[39;49m\u001B[43m_invoke\u001B[49m\u001B[43m(\u001B[49m\u001B[43mInvokeType\u001B[49m\u001B[38;5;241;43m.\u001B[39;49m\u001B[43mPROCEDURE\u001B[49m\u001B[43m,\u001B[49m\u001B[43m \u001B[49m\u001B[43murl\u001B[49m\u001B[38;5;241;43m=\u001B[39;49m\u001B[38;5;28;43mself\u001B[39;49m\u001B[38;5;241;43m.\u001B[39;49m\u001B[43m_build_url\u001B[49m\u001B[43m(\u001B[49m\u001B[43mnsid\u001B[49m\u001B[43m)\u001B[49m\u001B[43m,\u001B[49m\u001B[43m \u001B[49m\u001B[43mparams\u001B[49m\u001B[38;5;241;43m=\u001B[39;49m\u001B[43mparams\u001B[49m\u001B[43m,\u001B[49m\u001B[43m \u001B[49m\u001B[43mdata\u001B[49m\u001B[38;5;241;43m=\u001B[39;49m\u001B[43mdata\u001B[49m\u001B[43m,\u001B[49m\u001B[43m \u001B[49m\u001B[38;5;241;43m*\u001B[39;49m\u001B[38;5;241;43m*\u001B[39;49m\u001B[43mkwargs\u001B[49m\u001B[43m)\u001B[49m\n",
      "File \u001B[1;32m~\\.conda\\envs\\Machine-Learning-And-Data-Science-Course\\Lib\\site-packages\\atproto_client\\client\\client.py:41\u001B[0m, in \u001B[0;36mClient._invoke\u001B[1;34m(self, invoke_type, **kwargs)\u001B[0m\n\u001B[0;32m     38\u001B[0m     \u001B[38;5;28;01mif\u001B[39;00m \u001B[38;5;28mself\u001B[39m\u001B[38;5;241m.\u001B[39m_access_jwt \u001B[38;5;129;01mand\u001B[39;00m \u001B[38;5;28mself\u001B[39m\u001B[38;5;241m.\u001B[39m_should_refresh_session():\n\u001B[0;32m     39\u001B[0m         \u001B[38;5;28mself\u001B[39m\u001B[38;5;241m.\u001B[39m_refresh_and_set_session()\n\u001B[1;32m---> 41\u001B[0m \u001B[38;5;28;01mreturn\u001B[39;00m \u001B[38;5;28;43msuper\u001B[39;49m\u001B[43m(\u001B[49m\u001B[43m)\u001B[49m\u001B[38;5;241;43m.\u001B[39;49m\u001B[43m_invoke\u001B[49m\u001B[43m(\u001B[49m\u001B[43minvoke_type\u001B[49m\u001B[43m,\u001B[49m\u001B[43m \u001B[49m\u001B[38;5;241;43m*\u001B[39;49m\u001B[38;5;241;43m*\u001B[39;49m\u001B[43mkwargs\u001B[49m\u001B[43m)\u001B[49m\n",
      "File \u001B[1;32m~\\.conda\\envs\\Machine-Learning-And-Data-Science-Course\\Lib\\site-packages\\atproto_client\\client\\base.py:122\u001B[0m, in \u001B[0;36mClientBase._invoke\u001B[1;34m(self, invoke_type, **kwargs)\u001B[0m\n\u001B[0;32m    120\u001B[0m \u001B[38;5;28;01mif\u001B[39;00m invoke_type \u001B[38;5;129;01mis\u001B[39;00m InvokeType\u001B[38;5;241m.\u001B[39mQUERY:\n\u001B[0;32m    121\u001B[0m     \u001B[38;5;28;01mreturn\u001B[39;00m \u001B[38;5;28mself\u001B[39m\u001B[38;5;241m.\u001B[39mrequest\u001B[38;5;241m.\u001B[39mget(\u001B[38;5;241m*\u001B[39m\u001B[38;5;241m*\u001B[39mkwargs)\n\u001B[1;32m--> 122\u001B[0m \u001B[38;5;28;01mreturn\u001B[39;00m \u001B[38;5;28;43mself\u001B[39;49m\u001B[38;5;241;43m.\u001B[39;49m\u001B[43mrequest\u001B[49m\u001B[38;5;241;43m.\u001B[39;49m\u001B[43mpost\u001B[49m\u001B[43m(\u001B[49m\u001B[38;5;241;43m*\u001B[39;49m\u001B[38;5;241;43m*\u001B[39;49m\u001B[43mkwargs\u001B[49m\u001B[43m)\u001B[49m\n",
      "File \u001B[1;32m~\\.conda\\envs\\Machine-Learning-And-Data-Science-Course\\Lib\\site-packages\\atproto_client\\request.py:165\u001B[0m, in \u001B[0;36mRequest.post\u001B[1;34m(self, *args, **kwargs)\u001B[0m\n\u001B[0;32m    164\u001B[0m \u001B[38;5;28;01mdef\u001B[39;00m \u001B[38;5;21mpost\u001B[39m(\u001B[38;5;28mself\u001B[39m, \u001B[38;5;241m*\u001B[39margs: t\u001B[38;5;241m.\u001B[39mAny, \u001B[38;5;241m*\u001B[39m\u001B[38;5;241m*\u001B[39mkwargs: t\u001B[38;5;241m.\u001B[39mAny) \u001B[38;5;241m-\u001B[39m\u001B[38;5;241m>\u001B[39m Response:\n\u001B[1;32m--> 165\u001B[0m     \u001B[38;5;28;01mreturn\u001B[39;00m _parse_response(\u001B[38;5;28;43mself\u001B[39;49m\u001B[38;5;241;43m.\u001B[39;49m\u001B[43m_send_request\u001B[49m\u001B[43m(\u001B[49m\u001B[38;5;124;43m'\u001B[39;49m\u001B[38;5;124;43mPOST\u001B[39;49m\u001B[38;5;124;43m'\u001B[39;49m\u001B[43m,\u001B[49m\u001B[43m \u001B[49m\u001B[38;5;241;43m*\u001B[39;49m\u001B[43margs\u001B[49m\u001B[43m,\u001B[49m\u001B[43m \u001B[49m\u001B[38;5;241;43m*\u001B[39;49m\u001B[38;5;241;43m*\u001B[39;49m\u001B[43mkwargs\u001B[49m\u001B[43m)\u001B[49m)\n",
      "File \u001B[1;32m~\\.conda\\envs\\Machine-Learning-And-Data-Science-Course\\Lib\\site-packages\\atproto_client\\request.py:155\u001B[0m, in \u001B[0;36mRequest._send_request\u001B[1;34m(self, method, url, **kwargs)\u001B[0m\n\u001B[0;32m    153\u001B[0m     \u001B[38;5;28;01mreturn\u001B[39;00m _handle_response(response)\n\u001B[0;32m    154\u001B[0m \u001B[38;5;28;01mexcept\u001B[39;00m \u001B[38;5;167;01mException\u001B[39;00m \u001B[38;5;28;01mas\u001B[39;00m e:\n\u001B[1;32m--> 155\u001B[0m     \u001B[43m_handle_request_errors\u001B[49m\u001B[43m(\u001B[49m\u001B[43me\u001B[49m\u001B[43m)\u001B[49m\n\u001B[0;32m    156\u001B[0m     \u001B[38;5;28;01mraise\u001B[39;00m e\n",
      "File \u001B[1;32m~\\.conda\\envs\\Machine-Learning-And-Data-Science-Course\\Lib\\site-packages\\atproto_client\\request.py:54\u001B[0m, in \u001B[0;36m_handle_request_errors\u001B[1;34m(exception)\u001B[0m\n\u001B[0;32m     52\u001B[0m \u001B[38;5;28;01mdef\u001B[39;00m \u001B[38;5;21m_handle_request_errors\u001B[39m(exception: \u001B[38;5;167;01mException\u001B[39;00m) \u001B[38;5;241m-\u001B[39m\u001B[38;5;241m>\u001B[39m \u001B[38;5;28;01mNone\u001B[39;00m:\n\u001B[0;32m     53\u001B[0m     \u001B[38;5;28;01mtry\u001B[39;00m:\n\u001B[1;32m---> 54\u001B[0m         \u001B[38;5;28;01mraise\u001B[39;00m exception\n\u001B[0;32m     55\u001B[0m     \u001B[38;5;28;01mexcept\u001B[39;00m httpx\u001B[38;5;241m.\u001B[39mTimeoutException \u001B[38;5;28;01mas\u001B[39;00m e:\n\u001B[0;32m     56\u001B[0m         \u001B[38;5;28;01mraise\u001B[39;00m exceptions\u001B[38;5;241m.\u001B[39mInvokeTimeoutError \u001B[38;5;28;01mfrom\u001B[39;00m \u001B[38;5;21;01me\u001B[39;00m\n",
      "File \u001B[1;32m~\\.conda\\envs\\Machine-Learning-And-Data-Science-Course\\Lib\\site-packages\\atproto_client\\request.py:153\u001B[0m, in \u001B[0;36mRequest._send_request\u001B[1;34m(self, method, url, **kwargs)\u001B[0m\n\u001B[0;32m    151\u001B[0m \u001B[38;5;28;01mtry\u001B[39;00m:\n\u001B[0;32m    152\u001B[0m     response \u001B[38;5;241m=\u001B[39m \u001B[38;5;28mself\u001B[39m\u001B[38;5;241m.\u001B[39m_client\u001B[38;5;241m.\u001B[39mrequest(method\u001B[38;5;241m=\u001B[39mmethod, url\u001B[38;5;241m=\u001B[39murl, headers\u001B[38;5;241m=\u001B[39mheaders, \u001B[38;5;241m*\u001B[39m\u001B[38;5;241m*\u001B[39mkwargs)\n\u001B[1;32m--> 153\u001B[0m     \u001B[38;5;28;01mreturn\u001B[39;00m \u001B[43m_handle_response\u001B[49m\u001B[43m(\u001B[49m\u001B[43mresponse\u001B[49m\u001B[43m)\u001B[49m\n\u001B[0;32m    154\u001B[0m \u001B[38;5;28;01mexcept\u001B[39;00m \u001B[38;5;167;01mException\u001B[39;00m \u001B[38;5;28;01mas\u001B[39;00m e:\n\u001B[0;32m    155\u001B[0m     _handle_request_errors(e)\n",
      "File \u001B[1;32m~\\.conda\\envs\\Machine-Learning-And-Data-Science-Course\\Lib\\site-packages\\atproto_client\\request.py:83\u001B[0m, in \u001B[0;36m_handle_response\u001B[1;34m(response)\u001B[0m\n\u001B[0;32m     80\u001B[0m \u001B[38;5;28;01mif\u001B[39;00m response\u001B[38;5;241m.\u001B[39mstatus_code \u001B[38;5;129;01min\u001B[39;00m {\u001B[38;5;241m409\u001B[39m, \u001B[38;5;241m413\u001B[39m, \u001B[38;5;241m502\u001B[39m}:\n\u001B[0;32m     81\u001B[0m     \u001B[38;5;28;01mraise\u001B[39;00m exceptions\u001B[38;5;241m.\u001B[39mNetworkError(error_response)\n\u001B[1;32m---> 83\u001B[0m \u001B[38;5;28;01mraise\u001B[39;00m exceptions\u001B[38;5;241m.\u001B[39mRequestException(error_response)\n",
      "\u001B[1;31mRequestException\u001B[0m: Response(success=False, status_code=429, content=XrpcError(error='RateLimitExceeded', message='Rate Limit Exceeded'), headers={'date': 'Thu, 28 Nov 2024 19:26:59 GMT', 'content-type': 'application/json; charset=utf-8', 'content-length': '61', 'connection': 'keep-alive', 'x-powered-by': 'Express', 'access-control-allow-origin': '*', 'ratelimit-limit': '30', 'ratelimit-remaining': '0', 'ratelimit-reset': '1732822030', 'ratelimit-policy': '30;w=300', 'etag': 'W/\"3d-egyFOcXCrKQFzoI7522/4+PpxIk\"', 'vary': 'Accept-Encoding'})"
     ]
    }
   ],
   "execution_count": 3
  }
 ],
 "metadata": {
  "kernelspec": {
   "display_name": "Python 3",
   "language": "python",
   "name": "python3"
  },
  "language_info": {
   "codemirror_mode": {
    "name": "ipython",
    "version": 2
   },
   "file_extension": ".py",
   "mimetype": "text/x-python",
   "name": "python",
   "nbconvert_exporter": "python",
   "pygments_lexer": "ipython2",
   "version": "2.7.6"
  }
 },
 "nbformat": 4,
 "nbformat_minor": 5
}
