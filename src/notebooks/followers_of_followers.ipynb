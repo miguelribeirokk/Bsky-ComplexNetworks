{
 "cells": [
  {
   "cell_type": "code",
   "id": "initial_id",
   "metadata": {
    "collapsed": true,
    "ExecuteTime": {
     "end_time": "2024-11-27T18:43:34.609231Z",
     "start_time": "2024-11-27T18:43:33.001988Z"
    }
   },
   "source": [
    "from atproto_client.models.app.bsky.graph.get_followers import Params\n",
    "from atproto_client import Client\n",
    "from dotenv import load_dotenv\n",
    "import os\n",
    "import pandas as pd"
   ],
   "outputs": [
    {
     "ename": "ModuleNotFoundError",
     "evalue": "No module named 'atproto_client'",
     "output_type": "error",
     "traceback": [
      "\u001B[1;31m---------------------------------------------------------------------------\u001B[0m",
      "\u001B[1;31mModuleNotFoundError\u001B[0m                       Traceback (most recent call last)",
      "Cell \u001B[1;32mIn[1], line 1\u001B[0m\n\u001B[1;32m----> 1\u001B[0m \u001B[38;5;28;01mfrom\u001B[39;00m \u001B[38;5;21;01matproto_client\u001B[39;00m\u001B[38;5;21;01m.\u001B[39;00m\u001B[38;5;21;01mmodels\u001B[39;00m\u001B[38;5;21;01m.\u001B[39;00m\u001B[38;5;21;01mapp\u001B[39;00m\u001B[38;5;21;01m.\u001B[39;00m\u001B[38;5;21;01mbsky\u001B[39;00m\u001B[38;5;21;01m.\u001B[39;00m\u001B[38;5;21;01mgraph\u001B[39;00m\u001B[38;5;21;01m.\u001B[39;00m\u001B[38;5;21;01mget_followers\u001B[39;00m \u001B[38;5;28;01mimport\u001B[39;00m Params\n\u001B[0;32m      2\u001B[0m \u001B[38;5;28;01mfrom\u001B[39;00m \u001B[38;5;21;01matproto_client\u001B[39;00m \u001B[38;5;28;01mimport\u001B[39;00m Client\n\u001B[0;32m      3\u001B[0m \u001B[38;5;28;01mfrom\u001B[39;00m \u001B[38;5;21;01mdotenv\u001B[39;00m \u001B[38;5;28;01mimport\u001B[39;00m load_dotenv\n",
      "\u001B[1;31mModuleNotFoundError\u001B[0m: No module named 'atproto_client'"
     ]
    }
   ],
   "execution_count": 1
  },
  {
   "metadata": {
    "ExecuteTime": {
     "end_time": "2024-11-26T17:47:43.355051Z",
     "start_time": "2024-11-26T17:47:43.341840Z"
    }
   },
   "cell_type": "code",
   "source": "load_dotenv()",
   "id": "2f3cb1f72ebc71ad",
   "outputs": [
    {
     "data": {
      "text/plain": [
       "True"
      ]
     },
     "execution_count": 3,
     "metadata": {},
     "output_type": "execute_result"
    }
   ],
   "execution_count": 3
  },
  {
   "metadata": {
    "ExecuteTime": {
     "end_time": "2024-11-26T17:47:45.409364Z",
     "start_time": "2024-11-26T17:47:43.694588Z"
    }
   },
   "cell_type": "code",
   "source": [
    "# Obter as credenciais do arquivo .env\n",
    "username = os.getenv('BSKY_USERNAME')\n",
    "password = os.getenv('BSKY_PASSWORD')\n",
    "\n",
    "# Criação do cliente e login\n",
    "client = Client()\n",
    "client.login(username, password)"
   ],
   "id": "2f33dc8d3208a771",
   "outputs": [
    {
     "data": {
      "text/plain": [
       "ProfileViewDetailed(did='did:plc:vfevt6xdwrnhral3g7xscubj', handle='miguelbskyufv.bsky.social', associated=ProfileAssociated(chat=None, feedgens=0, labeler=False, lists=0, starter_packs=0, py_type='app.bsky.actor.defs#profileAssociated'), avatar='https://cdn.bsky.app/img/avatar/plain/did:plc:vfevt6xdwrnhral3g7xscubj/bafkreigl2cxiy4sq6wqorkegvkctsb6dk4wqhrtjlvrv7dc7ndlwijle4m@jpeg', banner=None, created_at='2024-11-22T17:41:02.653Z', description='cachorro e galo', display_name='miguelribeiro', followers_count=1, follows_count=1, indexed_at='2024-11-22T18:01:44.055Z', joined_via_starter_pack=None, labels=[], pinned_post=None, posts_count=1, viewer=ViewerState(blocked_by=False, blocking=None, blocking_by_list=None, followed_by=None, following=None, known_followers=None, muted=False, muted_by_list=None, py_type='app.bsky.actor.defs#viewerState'), py_type='app.bsky.actor.defs#profileViewDetailed')"
      ]
     },
     "execution_count": 4,
     "metadata": {},
     "output_type": "execute_result"
    }
   ],
   "execution_count": 4
  },
  {
   "metadata": {},
   "cell_type": "code",
   "outputs": [],
   "execution_count": null,
   "source": [
    "# Identificador do usuário (actor)\n",
    "actor = \"did:plc:sc2mo2yyi7cdxbfhp275jgzl\"\n",
    "\n",
    "# Inicialize os parâmetros com o limite de 100 (máximo permitido pela API)\n",
    "params = Params(actor=actor, limit=100)\n",
    "\n",
    "# Lista para armazenar todos os seguidores\n",
    "all_followers = []"
   ],
   "id": "da88e6a8cf272b62"
  }
 ],
 "metadata": {
  "kernelspec": {
   "display_name": "Python 3",
   "language": "python",
   "name": "python3"
  },
  "language_info": {
   "codemirror_mode": {
    "name": "ipython",
    "version": 2
   },
   "file_extension": ".py",
   "mimetype": "text/x-python",
   "name": "python",
   "nbconvert_exporter": "python",
   "pygments_lexer": "ipython2",
   "version": "2.7.6"
  }
 },
 "nbformat": 4,
 "nbformat_minor": 5
}
