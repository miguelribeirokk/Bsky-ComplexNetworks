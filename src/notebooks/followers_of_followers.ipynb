{
 "cells": [
  {
   "metadata": {
    "ExecuteTime": {
     "end_time": "2025-01-03T13:20:31.048128Z",
     "start_time": "2025-01-03T13:20:25.323826Z"
    }
   },
   "cell_type": "code",
   "source": [
    "from api_methods.get_followers import get_followers\n",
    "from model.client import AtProtoClientContextManager\n",
    "from pymongo import MongoClient\n",
    "from datetime import datetime"
   ],
   "id": "48619e57a85813ce",
   "outputs": [],
   "execution_count": 1
  },
  {
   "metadata": {
    "ExecuteTime": {
     "end_time": "2025-01-03T13:20:35.921076Z",
     "start_time": "2025-01-03T13:20:35.914567Z"
    }
   },
   "cell_type": "code",
   "source": [
    "MAX_FOLLOWERS = 1000\n",
    "\n",
    "MONGO_DB = \"bsky\"\n",
    "MONGO_COLLECTION = \"cuiaba\"\n",
    "\n",
    "ACTOR_TIME = \"did:plc:3z6nl4ujgistw3ija4ig6bgx\""
   ],
   "id": "1d6620024d67f359",
   "outputs": [],
   "execution_count": 2
  },
  {
   "metadata": {
    "ExecuteTime": {
     "end_time": "2025-01-03T13:20:37.394501Z",
     "start_time": "2025-01-03T13:20:36.983713Z"
    }
   },
   "cell_type": "code",
   "source": [
    "client = MongoClient(\"mongodb://localhost:27017/\")\n",
    "db = client[MONGO_DB]\n",
    "collection = db[MONGO_COLLECTION]\n",
    "\n",
    "collection.create_index(\"user_id\", unique=True)"
   ],
   "id": "98e3d12a3ab6f304",
   "outputs": [
    {
     "data": {
      "text/plain": [
       "'user_id_1'"
      ]
     },
     "execution_count": 3,
     "metadata": {},
     "output_type": "execute_result"
    }
   ],
   "execution_count": 3
  },
  {
   "metadata": {
    "ExecuteTime": {
     "end_time": "2024-12-09T19:07:48.506459Z",
     "start_time": "2024-12-09T19:07:48.497810Z"
    }
   },
   "cell_type": "code",
   "source": [
    "def save_to_db(user_dados, seguidores):\n",
    "    try:\n",
    "        collection.update_one(\n",
    "            {\"user_id\": user_dados['did']},\n",
    "            {\n",
    "                \"$set\": {\n",
    "                    \"display_name\": user_dados.get('display_name', 'N/A'),\n",
    "                    \"description\": user_dados.get('description', 'N/A'),\n",
    "                    \"handle\": user_dados.get('handle', 'N/A'),\n",
    "                    \"followers\": list(seguidores),\n",
    "                    \"updated_at\": datetime.now()\n",
    "                },\n",
    "                \"$setOnInsert\": {\n",
    "                    \"created_at\": datetime.now()\n",
    "                }\n",
    "            },\n",
    "            upsert=True\n",
    "        )\n",
    "    except Exception as e:\n",
    "        print(f\"Erro ao salvar dados do usuário {user_dados['did']}: {e}\")"
   ],
   "id": "a7ec43066a9e58ef",
   "outputs": [],
   "execution_count": 21
  },
  {
   "metadata": {
    "ExecuteTime": {
     "end_time": "2024-12-09T19:08:11.225593Z",
     "start_time": "2024-12-09T19:07:48.532093Z"
    }
   },
   "cell_type": "code",
   "source": [
    "with AtProtoClientContextManager() as client:\n",
    "    actor = ACTOR_TIME\n",
    "    \n",
    "    followers_data = [\n",
    "        {\n",
    "            \"did\": follower.did,\n",
    "            \"display_name\": follower.display_name or 'N/A',\n",
    "            \"description\": follower.description or 'N/A',\n",
    "            \"handle\": follower.handle or 'N/A'\n",
    "        }\n",
    "        for follower in get_followers(actor, client, MAX_FOLLOWERS)\n",
    "    ]\n",
    "    \n",
    "    print(f\"Total de seguidores diretos do ACTOR: {len(followers_data)}\")\n",
    "    \n",
    "    # Para cada seguidor direto, buscar seus seguidores e salvar no banco\n",
    "    for follower_data in followers_data:\n",
    "        follower_id = follower_data['did']\n",
    "        \n",
    "        # Recuperar seguidores do seguidor atual\n",
    "        followers_of_follower = [\n",
    "            follower.did for follower in get_followers(follower_id, client, MAX_FOLLOWERS)\n",
    "        ]\n",
    "        print(f\"Total de seguidores do seguidor {follower_id}: {len(followers_of_follower)}\")\n",
    "        \n",
    "        # Salvar no banco com a lista de seguidores\n",
    "        save_to_db(follower_data, followers_of_follower)\n",
    "\n",
    "    print(\"Coleta concluída!\")"
   ],
   "id": "da88e6a8cf272b62",
   "outputs": [
    {
     "name": "stdout",
     "output_type": "stream",
     "text": [
      "Total de seguidores diretos do ACTOR: 53\n",
      "Total de seguidores do seguidor did:plc:kg5y2va527f2fhopcrmbik6q: 78\n",
      "Total de seguidores do seguidor did:plc:jvzgwzpadisxldab37m4vbcr: 128\n",
      "Total de seguidores do seguidor did:plc:pu7adrujg6lsmk533t2dn74r: 111\n",
      "Total de seguidores do seguidor did:plc:gg3ryl7wp74c6oxcxxewek7v: 112\n",
      "Total de seguidores do seguidor did:plc:io5ioap2j4qhh7ge7rycyfey: 37\n",
      "Total de seguidores do seguidor did:plc:toqpgaosgohjwtuwkeo6csta: 5\n",
      "Total de seguidores do seguidor did:plc:g22u5pmwlvvxfwbavrsm65vb: 38\n",
      "Total de seguidores do seguidor did:plc:ub7r24bgoctrs6bgdob7iqrg: 63\n",
      "Total de seguidores do seguidor did:plc:wpqoaeih2mffqxtlx7ff3bb7: 37\n",
      "Total de seguidores do seguidor did:plc:tfbxy3ft7bftdoxymy752w2c: 24\n",
      "Total de seguidores do seguidor did:plc:4bjafvjg44jqvoqjfcvjypon: 58\n",
      "Total de seguidores do seguidor did:plc:4z7oyrrh3wnpsfpfpvjegmp5: 24\n",
      "Total de seguidores do seguidor did:plc:ecy72n6dz5rvvo7wk6mqif3q: 51\n",
      "Total de seguidores do seguidor did:plc:xebcfmwblhno4i4qznxflyps: 83\n",
      "Total de seguidores do seguidor did:plc:rflve65nc3yagnxx3pibe7gq: 40\n",
      "Total de seguidores do seguidor did:plc:zxop53zjnyc5k6fj7fnmm24j: 38\n",
      "Total de seguidores do seguidor did:plc:lzmdxn573r2rzfaitvsr2bqz: 52\n",
      "Total de seguidores do seguidor did:plc:blnhak24vcjrhxsqgrur7xaa: 88\n",
      "Total de seguidores do seguidor did:plc:teoldggs2cf4cdpj347hxamw: 101\n",
      "Total de seguidores do seguidor did:plc:ynz7d4itv2wl5m2mv5moufox: 13\n",
      "Total de seguidores do seguidor did:plc:g3sexnkp7xmvz34uoeuzwwjn: 109\n",
      "Total de seguidores do seguidor did:plc:rebwwfcb7wr2szxe2shfyqny: 57\n",
      "Total de seguidores do seguidor did:plc:cr52iqd4ak6xn4vicl27gd2l: 49\n",
      "Total de seguidores do seguidor did:plc:aqwpftpsb5sayn7nfra2ypzd: 40\n",
      "Total de seguidores do seguidor did:plc:ykoikdwzxmac5vf6gxj74rlj: 27\n",
      "Total de seguidores do seguidor did:plc:mr6kli6wxc3zi7xqex67k23s: 71\n",
      "Total de seguidores do seguidor did:plc:w7tozqs7262erz63fte4upbs: 37\n",
      "Total de seguidores do seguidor did:plc:sd2dnfuzazon7ksjwmh56hah: 69\n",
      "Total de seguidores do seguidor did:plc:vr4bsktywxfbchag766m5a4m: 14\n",
      "Total de seguidores do seguidor did:plc:7ekxpyz3mzhm7776xbbincmp: 336\n",
      "Total de seguidores do seguidor did:plc:f5ma6iub5f57k7ortm3bgqkh: 64\n",
      "Total de seguidores do seguidor did:plc:tnpoldpyxkrmjngwzdo7zfua: 90\n",
      "Total de seguidores do seguidor did:plc:fn3nj42edltz3e2fxyg5nyqe: 49\n",
      "Total de seguidores do seguidor did:plc:ai4xqggaidzkmnvibn6dm46e: 83\n",
      "Total de seguidores do seguidor did:plc:abwpatp7gr572kpepszzuwdl: 114\n",
      "Total de seguidores do seguidor did:plc:ni5y6djzczxvbkwels2uaoei: 135\n",
      "Total de seguidores do seguidor did:plc:xolmsnul27m32ai4cbleosjc: 26\n",
      "Total de seguidores do seguidor did:plc:tyo37mruthni7uroyf2yukzn: 12\n",
      "Total de seguidores do seguidor did:plc:evd3tgl4bgyd3syiwmq7guna: 103\n",
      "Total de seguidores do seguidor did:plc:3zcdavhvel37sbewrwnypwfx: 57\n",
      "Total de seguidores do seguidor did:plc:l3gehq5ocotb76xdghvojz6x: 37\n",
      "Total de seguidores do seguidor did:plc:3p7pgnpkxnwd5rblo2dltyba: 22\n",
      "Total de seguidores do seguidor did:plc:aqnsx43fe4oh3gpdbp5vviaf: 133\n",
      "Total de seguidores do seguidor did:plc:p4aodsfxh24l5ruhrbvr3k5k: 79\n",
      "Total de seguidores do seguidor did:plc:lt5da7zbf6xfqywbwsmfueku: 32\n",
      "Total de seguidores do seguidor did:plc:64qtfkulh6t6nfv2n3jh5won: 140\n",
      "Total de seguidores do seguidor did:plc:s4h5nerghjyduk2tium5xn22: 22\n",
      "Total de seguidores do seguidor did:plc:ea7v6ep5omdot7obkkbwvtkk: 46\n",
      "Total de seguidores do seguidor did:plc:r7z56wkcusj4qsfjrciettxd: 71\n",
      "Total de seguidores do seguidor did:plc:3gft7kkioh6ksoz773qnq4oy: 139\n",
      "Total de seguidores do seguidor did:plc:jtxwkckwim2dz4k7sqjoe3t3: 76\n",
      "Total de seguidores do seguidor did:plc:sc3kox6axpxd6rdpdai27rtn: 23\n",
      "Total de seguidores do seguidor did:plc:xkzc75ffmuvrqe7p6okbvrw4: 83\n",
      "Coleta concluída!\n"
     ]
    }
   ],
   "execution_count": 22
  },
  {
   "metadata": {
    "ExecuteTime": {
     "end_time": "2024-12-09T19:28:51.690565Z",
     "start_time": "2024-12-09T19:28:51.598477Z"
    }
   },
   "cell_type": "code",
   "source": [
    "import pandas as pd\n",
    "import networkx as nx\n",
    "import matplotlib.pyplot as plt\n",
    "\n",
    "# Passo 1: Carregar o arquivo CSV\n",
    "arquivo_csv = \"bsky.cuiaba.csv\"  # Substitua pelo nome do seu arquivo\n",
    "df = pd.read_csv(arquivo_csv)\n",
    "\n",
    "# Passo 2: Inicializar o grafo direcionado\n",
    "grafo = nx.DiGraph()\n",
    "\n",
    "# Passo 3: Criar as conexões do grafo\n",
    "for _, row in df.iterrows():\n",
    "    user = row[\"user_id\"]  # Identifica o usuário (dono da linha)\n",
    "    followers = row.filter(like=\"followers\").dropna()  # Filtra as colunas de seguidores\n",
    "    \n",
    "    \n",
    "    # Adiciona conexões no grafo (seguidores -> usuário)\n",
    "    for follower in followers:\n",
    "        grafo.add_edge(follower, user)\n",
    "        \n",
    "print(f\"Número de nós: {grafo.number_of_nodes()}\")\n",
    "print(f\"Número de arestas: {grafo.number_of_edges()}\")\n",
    "\n",
    "\n"
   ],
   "id": "eec56b6190140a83",
   "outputs": [
    {
     "name": "stdout",
     "output_type": "stream",
     "text": [
      "Número de nós: 1208\n",
      "Número de arestas: 3626\n"
     ]
    }
   ],
   "execution_count": 32
  },
  {
   "metadata": {
    "ExecuteTime": {
     "end_time": "2024-12-09T19:11:44.795944Z",
     "start_time": "2024-12-09T19:11:43.926077Z"
    }
   },
   "cell_type": "code",
   "source": "nx.write_gexf(grafo, \"grafo_seguidores.gexf\")\n",
   "id": "2d1b73f3d942bf3c",
   "outputs": [],
   "execution_count": 26
  },
  {
   "metadata": {},
   "cell_type": "code",
   "outputs": [],
   "execution_count": null,
   "source": "",
   "id": "f0791510320347c6"
  }
 ],
 "metadata": {
  "kernelspec": {
   "display_name": "Python 3",
   "language": "python",
   "name": "python3"
  },
  "language_info": {
   "codemirror_mode": {
    "name": "ipython",
    "version": 2
   },
   "file_extension": ".py",
   "mimetype": "text/x-python",
   "name": "python",
   "nbconvert_exporter": "python",
   "pygments_lexer": "ipython2",
   "version": "2.7.6"
  }
 },
 "nbformat": 4,
 "nbformat_minor": 5
}
